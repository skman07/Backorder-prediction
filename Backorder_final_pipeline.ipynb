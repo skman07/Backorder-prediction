{
  "nbformat": 4,
  "nbformat_minor": 0,
  "metadata": {
    "colab": {
      "name": "Backorder_final_pipeline.ipynb",
      "provenance": [],
      "machine_shape": "hm"
    },
    "kernelspec": {
      "name": "python3",
      "display_name": "Python 3"
    },
    "language_info": {
      "name": "python"
    },
    "accelerator": "GPU"
  },
  "cells": [
    {
      "cell_type": "code",
      "metadata": {
        "id": "4WUXuoALJnAj"
      },
      "source": [
        "## import libraries\n",
        "import pandas as pd\n",
        "import matplotlib.pyplot as plt\n",
        "from sklearn.experimental import enable_iterative_imputer\n",
        "from sklearn.impute import IterativeImputer, SimpleImputer\n",
        "from sklearn.preprocessing import normalize\n",
        "import seaborn as sb\n",
        "from scipy import stats\n",
        "import numpy as np\n",
        "from sklearn.preprocessing import normalize, StandardScaler,MinMaxScaler\n",
        "import joblib\n",
        "from prettytable import PrettyTable\n",
        "from tqdm import tqdm \n",
        "import math, time\n",
        "from sklearn.linear_model import LogisticRegression\n",
        "from sklearn import metrics\n",
        "from sklearn.preprocessing import PolynomialFeatures\n",
        "from sklearn import linear_model, tree, ensemble\n",
        "import time\n",
        "from prettytable import PrettyTable\n",
        "from tqdm import tqdm\n",
        "from sklearn.model_selection import StratifiedKFold, GridSearchCV, train_test_split\n",
        "from sklearn.metrics import roc_auc_score, average_precision_score, make_scorer, f1_score, recall_score, precision_score, confusion_matrix, roc_curve, precision_recall_curve\n",
        "from numpy import argmax\n",
        "import warnings\n",
        "warnings.filterwarnings(\"ignore\")"
      ],
      "execution_count": 8,
      "outputs": []
    },
    {
      "cell_type": "code",
      "metadata": {
        "id": "JIlBJZ5LJutY"
      },
      "source": [
        "df_test = pd.read_csv('/content/Test_Data.csv')"
      ],
      "execution_count": 9,
      "outputs": []
    },
    {
      "cell_type": "code",
      "metadata": {
        "colab": {
          "base_uri": "https://localhost:8080/",
          "height": 100
        },
        "id": "H7JHnnuhQMh_",
        "outputId": "aa14cf14-f5e0-4008-86b3-a8f1668b56ab"
      },
      "source": [
        "df_test"
      ],
      "execution_count": 10,
      "outputs": [
        {
          "output_type": "execute_result",
          "data": {
            "text/html": [
              "<div>\n",
              "<style scoped>\n",
              "    .dataframe tbody tr th:only-of-type {\n",
              "        vertical-align: middle;\n",
              "    }\n",
              "\n",
              "    .dataframe tbody tr th {\n",
              "        vertical-align: top;\n",
              "    }\n",
              "\n",
              "    .dataframe thead th {\n",
              "        text-align: right;\n",
              "    }\n",
              "</style>\n",
              "<table border=\"1\" class=\"dataframe\">\n",
              "  <thead>\n",
              "    <tr style=\"text-align: right;\">\n",
              "      <th></th>\n",
              "      <th>sku</th>\n",
              "      <th>national_inv</th>\n",
              "      <th>lead_time</th>\n",
              "      <th>in_transit_qty</th>\n",
              "      <th>forecast_3_month</th>\n",
              "      <th>forecast_6_month</th>\n",
              "      <th>forecast_9_month</th>\n",
              "      <th>sales_1_month</th>\n",
              "      <th>sales_3_month</th>\n",
              "      <th>sales_6_month</th>\n",
              "      <th>sales_9_month</th>\n",
              "      <th>min_bank</th>\n",
              "      <th>potential_issue</th>\n",
              "      <th>pieces_past_due</th>\n",
              "      <th>perf_6_month_avg</th>\n",
              "      <th>perf_12_month_avg</th>\n",
              "      <th>local_bo_qty</th>\n",
              "      <th>deck_risk</th>\n",
              "      <th>oe_constraint</th>\n",
              "      <th>ppap_risk</th>\n",
              "      <th>stop_auto_buy</th>\n",
              "      <th>rev_stop</th>\n",
              "      <th>went_on_backorder</th>\n",
              "    </tr>\n",
              "  </thead>\n",
              "  <tbody>\n",
              "    <tr>\n",
              "      <th>0</th>\n",
              "      <td>100001</td>\n",
              "      <td>55</td>\n",
              "      <td>12</td>\n",
              "      <td>0</td>\n",
              "      <td>231</td>\n",
              "      <td>348</td>\n",
              "      <td>465</td>\n",
              "      <td>30</td>\n",
              "      <td>183</td>\n",
              "      <td>356</td>\n",
              "      <td>532</td>\n",
              "      <td>0</td>\n",
              "      <td>No</td>\n",
              "      <td>0</td>\n",
              "      <td>0.07</td>\n",
              "      <td>0.19</td>\n",
              "      <td>0</td>\n",
              "      <td>No</td>\n",
              "      <td>No</td>\n",
              "      <td>No</td>\n",
              "      <td>Yes</td>\n",
              "      <td>No</td>\n",
              "      <td>Yes</td>\n",
              "    </tr>\n",
              "  </tbody>\n",
              "</table>\n",
              "</div>"
            ],
            "text/plain": [
              "      sku  national_inv  lead_time  ...  stop_auto_buy  rev_stop  went_on_backorder\n",
              "0  100001            55         12  ...            Yes        No                Yes\n",
              "\n",
              "[1 rows x 23 columns]"
            ]
          },
          "metadata": {},
          "execution_count": 10
        }
      ]
    },
    {
      "cell_type": "code",
      "metadata": {
        "id": "_7WlGgOPC2es"
      },
      "source": [
        "#Assigning the numerical columns\n",
        "num_col_list=['national_inv','lead_time','in_transit_qty','forecast_3_month','forecast_6_month','forecast_9_month','sales_1_month','sales_3_month','sales_6_month','sales_9_month','min_bank','pieces_past_due','perf_6_month_avg','perf_12_month_avg','local_bo_qty']"
      ],
      "execution_count": 11,
      "outputs": []
    },
    {
      "cell_type": "code",
      "metadata": {
        "id": "aBUk5pXJutSC"
      },
      "source": [
        "def final_fun_1(df):\n",
        "  \n",
        "  df_test=df.copy()\n",
        "  \n",
        "  #Fetching the best features\n",
        "  best_feat=joblib.load('test_best_feat.pkl')\n",
        "  best_feat=best_feat.tolist()\n",
        "  \n",
        "  #Fetching the trained standardization object instance\n",
        "  sc=joblib.load('sc.pkl')\n",
        "  df_test=df_test[df_test['went_on_backorder'].notna()]\n",
        "\n",
        "  # Encode categorical columns with values Yes and No to 1 and 0 respectively\n",
        "  dict_map_bool={'Yes':1.0,'No':0.0}\n",
        "\n",
        "  df_test['deck_risk']=df_test['deck_risk'].map(dict_map_bool)\n",
        "  df_test['potential_issue']=df_test['potential_issue'].map(dict_map_bool)\n",
        "  df_test['oe_constraint']=df_test['oe_constraint'].map(dict_map_bool)\n",
        "  df_test['ppap_risk']=df_test['ppap_risk'].map(dict_map_bool)\n",
        "  df_test['stop_auto_buy']=df_test['stop_auto_buy'].map(dict_map_bool)\n",
        "  df_test['rev_stop']=df_test['rev_stop'].map(dict_map_bool)\n",
        "  df_test['went_on_backorder']=df_test['went_on_backorder'].map(dict_map_bool)\n",
        "\n",
        "  #Replacing -99 in perfomance columns with nan\n",
        "  df_test.perf_6_month_avg.replace({-99.0 : np.nan}, inplace = True)\n",
        "  df_test.perf_12_month_avg.replace({-99.0 : np.nan}, inplace = True)\n",
        "  df_test=df_test.drop(columns=['sku'])\n",
        "  \n",
        "  #Handling missing values with median values\n",
        "  df_test.lead_time.replace(to_replace = np.nan, value=8, inplace=True)\n",
        "  df_test.perf_6_month_avg.replace(to_replace = -99, value=.85, inplace=True)\n",
        "  df_test.perf_12_month_avg.replace(to_replace = -99, value=.83, inplace=True)\n",
        "\n",
        "  #Performing Standardization\n",
        "  df_test_num_sc = sc.transform(df_test[num_col_list].values)\n",
        "  df_test_num_sc=pd.DataFrame(df_test_num_sc,index=df_test.index,columns=num_col_list)\n",
        "\n",
        "  #Assigning numerical columns to original dataframe\n",
        "  for i in num_col_list:\n",
        "    df_test[i]=df_test_num_sc[i]\n",
        "\n",
        "  #Function to perform addition of features  \n",
        "  def add(df,num_cols):\n",
        "    for i in num_cols:\n",
        "      for j in num_cols:\n",
        "        if (i!=j):\n",
        "          df[i+'_'+j+'_add']=df[i]+df[j]\n",
        "    return df\n",
        "\n",
        "  #Function to perform multiplication of features\n",
        "  def mult(df,num_cols):\n",
        "    for i in num_cols:\n",
        "      for j in num_cols:\n",
        "        if (i!=j):\n",
        "          df[i+'_'+j+'_mult']=df[i]*df[j]\n",
        "    return df\n",
        "\n",
        "  #Function to perform inverse of features\n",
        "  def inv(df,num_cols):\n",
        "    for i in num_cols:\n",
        "      df[i+'_'+'inv']=1/(df[i]+0.001)\n",
        "    return df\n",
        "\n",
        "  #Function to perform square of features\n",
        "  def square(df,num_cols):\n",
        "    for i in num_cols:\n",
        "      df[i+'_'+'square']=df[i] * df[i]\n",
        "    return df\n",
        "\n",
        "  #Function to perform square root of features\n",
        "  def sqrt(df,num_cols):\n",
        "    for i in num_cols:\n",
        "      df[i+'_'+'square_root']=np.sqrt(abs(df[i]))\n",
        "    return df\n",
        "\n",
        "  #Function to perform log of features\n",
        "  def log(df,num_cols):\n",
        "    for i in num_cols:\n",
        "      df[i+'_'+'log']= (np.log(abs(df[i])+1))\n",
        "    return df\n",
        "\n",
        "\n",
        "  #Applying tranformed functions\n",
        "  df_test_trans=add(df_test,num_col_list)\n",
        "  df_test_trans=mult(df_test_trans,num_col_list)\n",
        "  df_test_trans=inv(df_test_trans,num_col_list)\n",
        "  df_test_trans=square(df_test_trans,num_col_list)\n",
        "  df_test_trans=sqrt(df_test_trans,num_col_list)\n",
        "  df_test_trans=log(df_test_trans,num_col_list)\n",
        "\n",
        "  df_test_final = df_test_trans[best_feat]\n",
        "  y_test=df_test_trans['went_on_backorder'].values\n",
        "\n",
        "  filename = 'backorder_best_model.pkl'\n",
        "  model=joblib.load(filename)\n",
        "  y_pred_test = model.predict(df_test_final)\n",
        "  \n",
        "  return y_test,y_pred_test"
      ],
      "execution_count": 12,
      "outputs": []
    },
    {
      "cell_type": "code",
      "metadata": {
        "id": "4XGP7O_jD_M4"
      },
      "source": [
        "def final_fun_2(df):\n",
        "\n",
        "  y_test, y_pred = final_fun_1(df)\n",
        "  \n",
        "  return (y_test,y_pred)"
      ],
      "execution_count": 13,
      "outputs": []
    },
    {
      "cell_type": "code",
      "metadata": {
        "id": "SX2HgxBmJiX9",
        "colab": {
          "base_uri": "https://localhost:8080/"
        },
        "outputId": "59896787-587e-42e3-80fb-696b50504613"
      },
      "source": [
        "final_fun_2(df_test)"
      ],
      "execution_count": 14,
      "outputs": [
        {
          "output_type": "execute_result",
          "data": {
            "text/plain": [
              "(array([1.]), array([1.]))"
            ]
          },
          "metadata": {},
          "execution_count": 14
        }
      ]
    }
  ]
}